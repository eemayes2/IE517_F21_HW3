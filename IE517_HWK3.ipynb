{
  "nbformat": 4,
  "nbformat_minor": 0,
  "metadata": {
    "colab": {
      "name": "IE517_HWK3.ipynb",
      "provenance": [],
      "collapsed_sections": [],
      "mount_file_id": "1bAZrBma-PBWTXdbDa7PKq_j3-Nb-y41B",
      "authorship_tag": "ABX9TyNiOQvlP+S8Pt1kLyGrE1W1",
      "include_colab_link": true
    },
    "kernelspec": {
      "name": "python3",
      "display_name": "Python 3"
    },
    "language_info": {
      "name": "python"
    }
  },
  "cells": [
    {
      "cell_type": "markdown",
      "metadata": {
        "id": "view-in-github",
        "colab_type": "text"
      },
      "source": [
        "<a href=\"https://colab.research.google.com/github/eemayes2/IE517_F21_HW3/blob/main/IE517_HWK3.ipynb\" target=\"_parent\"><img src=\"https://colab.research.google.com/assets/colab-badge.svg\" alt=\"Open In Colab\"/></a>"
      ]
    },
    {
      "cell_type": "markdown",
      "metadata": {
        "id": "Wzgw8ZoJe4rF"
      },
      "source": [
        "## EDA: Corporate Bond Set "
      ]
    },
    {
      "cell_type": "markdown",
      "metadata": {
        "id": "rqF2PPxWfGF4"
      },
      "source": [
        "Perform an exploratory data analysis (EDA) on the \"High Yield Corporate Bond\" dataset.  Use the code listings presented in Bowles Chapter 2 to guide you.\n",
        "\n",
        "You do NOT have to do any other datasets (sonar_all_data or \"rocks_v_mines\", abalone, winequality or glass)!\n",
        "\n",
        "Figure out how best to include the information, visually and quantitatively.  Refer to the code in listing 2-1 through 2-10 and also the Datacamp assignments.\n"
      ]
    },
    {
      "cell_type": "code",
      "metadata": {
        "colab": {
          "base_uri": "https://localhost:8080/",
          "height": 348
        },
        "id": "xsGefHImeyYP",
        "outputId": "abd10019-f134-41ef-83cb-5aff0a55e059"
      },
      "source": [
        "import pandas as pd\n",
        "df = pd.read_csv('HY_Universe_corporate bond.csv', header=0)\n",
        "\n",
        "df.head()"
      ],
      "execution_count": 1,
      "outputs": [
        {
          "output_type": "execute_result",
          "data": {
            "text/html": [
              "<div>\n",
              "<style scoped>\n",
              "    .dataframe tbody tr th:only-of-type {\n",
              "        vertical-align: middle;\n",
              "    }\n",
              "\n",
              "    .dataframe tbody tr th {\n",
              "        vertical-align: top;\n",
              "    }\n",
              "\n",
              "    .dataframe thead th {\n",
              "        text-align: right;\n",
              "    }\n",
              "</style>\n",
              "<table border=\"1\" class=\"dataframe\">\n",
              "  <thead>\n",
              "    <tr style=\"text-align: right;\">\n",
              "      <th></th>\n",
              "      <th>CUSIP</th>\n",
              "      <th>Ticker</th>\n",
              "      <th>Issue Date</th>\n",
              "      <th>Maturity</th>\n",
              "      <th>1st Call Date</th>\n",
              "      <th>Moodys</th>\n",
              "      <th>S_and_P</th>\n",
              "      <th>Fitch</th>\n",
              "      <th>Bloomberg Composite Rating</th>\n",
              "      <th>Coupon</th>\n",
              "      <th>Issued Amount</th>\n",
              "      <th>Maturity Type</th>\n",
              "      <th>Coupon Type</th>\n",
              "      <th>Maturity At Issue months</th>\n",
              "      <th>Industry</th>\n",
              "      <th>LiquidityScore</th>\n",
              "      <th>Months in JNK</th>\n",
              "      <th>Months in HYG</th>\n",
              "      <th>Months in Both</th>\n",
              "      <th>IN_ETF</th>\n",
              "      <th>LIQ SCORE</th>\n",
              "      <th>n_trades</th>\n",
              "      <th>volume_trades</th>\n",
              "      <th>total_median_size</th>\n",
              "      <th>total_mean_size</th>\n",
              "      <th>n_days_trade</th>\n",
              "      <th>days_diff_max</th>\n",
              "      <th>percent_intra_dealer</th>\n",
              "      <th>percent_uncapped</th>\n",
              "      <th>bond_type</th>\n",
              "      <th>Client_Trade_Percentage</th>\n",
              "      <th>weekly_mean_volume</th>\n",
              "      <th>weekly_median_volume</th>\n",
              "      <th>weekly_max_volume</th>\n",
              "      <th>weekly_min_volume</th>\n",
              "      <th>weekly_mean_ntrades</th>\n",
              "      <th>weekly_median_ntrades</th>\n",
              "    </tr>\n",
              "  </thead>\n",
              "  <tbody>\n",
              "    <tr>\n",
              "      <th>0</th>\n",
              "      <td>000324AA1</td>\n",
              "      <td>FLECIN</td>\n",
              "      <td>7/1/2014</td>\n",
              "      <td>7/1/2019</td>\n",
              "      <td>10/23/2017</td>\n",
              "      <td>Nan</td>\n",
              "      <td>Nan</td>\n",
              "      <td>Nan</td>\n",
              "      <td>Nan</td>\n",
              "      <td>12.00</td>\n",
              "      <td>405000000.0</td>\n",
              "      <td>CALLABLE</td>\n",
              "      <td>PAY-IN-KIND</td>\n",
              "      <td>60.87</td>\n",
              "      <td>Real Estate</td>\n",
              "      <td>10.891365</td>\n",
              "      <td>Nan</td>\n",
              "      <td>Nan</td>\n",
              "      <td>Nan</td>\n",
              "      <td>No</td>\n",
              "      <td>0.108914</td>\n",
              "      <td>301</td>\n",
              "      <td>2.640038e+08</td>\n",
              "      <td>1000000.0</td>\n",
              "      <td>877088.9535</td>\n",
              "      <td>128</td>\n",
              "      <td>1132</td>\n",
              "      <td>0.006645</td>\n",
              "      <td>0.292359</td>\n",
              "      <td>5</td>\n",
              "      <td>0.521595</td>\n",
              "      <td>3105926.765</td>\n",
              "      <td>2000000.0</td>\n",
              "      <td>18980000.0</td>\n",
              "      <td>60000.0</td>\n",
              "      <td>3.541176</td>\n",
              "      <td>1</td>\n",
              "    </tr>\n",
              "    <tr>\n",
              "      <th>1</th>\n",
              "      <td>00080QAB1</td>\n",
              "      <td>RBS</td>\n",
              "      <td>3/15/2004</td>\n",
              "      <td>6/4/2018</td>\n",
              "      <td>Nan</td>\n",
              "      <td>Ba1</td>\n",
              "      <td>BB+</td>\n",
              "      <td>BBB</td>\n",
              "      <td>BB+</td>\n",
              "      <td>4.65</td>\n",
              "      <td>499285000.0</td>\n",
              "      <td>AT MATURITY</td>\n",
              "      <td>FIXED</td>\n",
              "      <td>173.13</td>\n",
              "      <td>Banks</td>\n",
              "      <td>24.625486</td>\n",
              "      <td>0</td>\n",
              "      <td>33</td>\n",
              "      <td>0</td>\n",
              "      <td>Yes</td>\n",
              "      <td>0.246255</td>\n",
              "      <td>2854</td>\n",
              "      <td>2.668630e+08</td>\n",
              "      <td>24000.0</td>\n",
              "      <td>93504.9054</td>\n",
              "      <td>614</td>\n",
              "      <td>1041</td>\n",
              "      <td>0.425018</td>\n",
              "      <td>0.974071</td>\n",
              "      <td>2</td>\n",
              "      <td>0.337071</td>\n",
              "      <td>1721696.774</td>\n",
              "      <td>1160000.0</td>\n",
              "      <td>11197000.0</td>\n",
              "      <td>5000.0</td>\n",
              "      <td>18.412903</td>\n",
              "      <td>3</td>\n",
              "    </tr>\n",
              "    <tr>\n",
              "      <th>2</th>\n",
              "      <td>00081TAD0</td>\n",
              "      <td>ACCO</td>\n",
              "      <td>5/14/2010</td>\n",
              "      <td>3/15/2015</td>\n",
              "      <td>Nan</td>\n",
              "      <td>WR</td>\n",
              "      <td>NR</td>\n",
              "      <td>BB+</td>\n",
              "      <td>NR</td>\n",
              "      <td>10.63</td>\n",
              "      <td>460000000.0</td>\n",
              "      <td>CALLABLE</td>\n",
              "      <td>FIXED</td>\n",
              "      <td>58.87</td>\n",
              "      <td>Household Products/Wares</td>\n",
              "      <td>12.841557</td>\n",
              "      <td>Nan</td>\n",
              "      <td>Nan</td>\n",
              "      <td>Nan</td>\n",
              "      <td>No</td>\n",
              "      <td>0.128416</td>\n",
              "      <td>434</td>\n",
              "      <td>2.814210e+08</td>\n",
              "      <td>875000.0</td>\n",
              "      <td>648435.4839</td>\n",
              "      <td>183</td>\n",
              "      <td>439</td>\n",
              "      <td>0.115207</td>\n",
              "      <td>0.594470</td>\n",
              "      <td>5</td>\n",
              "      <td>0.467742</td>\n",
              "      <td>4200313.433</td>\n",
              "      <td>3520000.0</td>\n",
              "      <td>14000000.0</td>\n",
              "      <td>24000.0</td>\n",
              "      <td>6.477612</td>\n",
              "      <td>1</td>\n",
              "    </tr>\n",
              "    <tr>\n",
              "      <th>3</th>\n",
              "      <td>00081TAH1</td>\n",
              "      <td>ACCO</td>\n",
              "      <td>6/17/2013</td>\n",
              "      <td>4/30/2020</td>\n",
              "      <td>Nan</td>\n",
              "      <td>WR</td>\n",
              "      <td>NR</td>\n",
              "      <td>WD</td>\n",
              "      <td>NR</td>\n",
              "      <td>6.75</td>\n",
              "      <td>500000000.0</td>\n",
              "      <td>CALLABLE</td>\n",
              "      <td>FIXED</td>\n",
              "      <td>83.63</td>\n",
              "      <td>Household Products/Wares</td>\n",
              "      <td>26.226355</td>\n",
              "      <td>43</td>\n",
              "      <td>0</td>\n",
              "      <td>0</td>\n",
              "      <td>Yes</td>\n",
              "      <td>0.262264</td>\n",
              "      <td>4975</td>\n",
              "      <td>1.163167e+09</td>\n",
              "      <td>26000.0</td>\n",
              "      <td>233802.4121</td>\n",
              "      <td>773</td>\n",
              "      <td>1227</td>\n",
              "      <td>0.426332</td>\n",
              "      <td>0.892462</td>\n",
              "      <td>3</td>\n",
              "      <td>0.212864</td>\n",
              "      <td>6321559.783</td>\n",
              "      <td>5487500.0</td>\n",
              "      <td>18459000.0</td>\n",
              "      <td>30000.0</td>\n",
              "      <td>27.038043</td>\n",
              "      <td>1</td>\n",
              "    </tr>\n",
              "    <tr>\n",
              "      <th>4</th>\n",
              "      <td>00081TAJ7</td>\n",
              "      <td>ACCO</td>\n",
              "      <td>12/22/2016</td>\n",
              "      <td>12/15/2024</td>\n",
              "      <td>12/15/2019</td>\n",
              "      <td>B1</td>\n",
              "      <td>BB-</td>\n",
              "      <td>BB</td>\n",
              "      <td>BB-</td>\n",
              "      <td>5.25</td>\n",
              "      <td>400000000.0</td>\n",
              "      <td>CALLABLE</td>\n",
              "      <td>FIXED</td>\n",
              "      <td>97.17</td>\n",
              "      <td>Household Products/Wares</td>\n",
              "      <td>14.138395</td>\n",
              "      <td>Nan</td>\n",
              "      <td>Nan</td>\n",
              "      <td>Nan</td>\n",
              "      <td>No</td>\n",
              "      <td>0.141384</td>\n",
              "      <td>388</td>\n",
              "      <td>2.493420e+08</td>\n",
              "      <td>750000.0</td>\n",
              "      <td>642634.0206</td>\n",
              "      <td>126</td>\n",
              "      <td>246</td>\n",
              "      <td>0.157216</td>\n",
              "      <td>0.690722</td>\n",
              "      <td>5</td>\n",
              "      <td>0.500000</td>\n",
              "      <td>5936714.286</td>\n",
              "      <td>3305500.0</td>\n",
              "      <td>72760000.0</td>\n",
              "      <td>90000.0</td>\n",
              "      <td>9.238095</td>\n",
              "      <td>1</td>\n",
              "    </tr>\n",
              "  </tbody>\n",
              "</table>\n",
              "</div>"
            ],
            "text/plain": [
              "       CUSIP  Ticker  ... weekly_mean_ntrades weekly_median_ntrades\n",
              "0  000324AA1  FLECIN  ...            3.541176                     1\n",
              "1  00080QAB1     RBS  ...           18.412903                     3\n",
              "2  00081TAD0    ACCO  ...            6.477612                     1\n",
              "3  00081TAH1    ACCO  ...           27.038043                     1\n",
              "4  00081TAJ7    ACCO  ...            9.238095                     1\n",
              "\n",
              "[5 rows x 37 columns]"
            ]
          },
          "metadata": {},
          "execution_count": 1
        }
      ]
    },
    {
      "cell_type": "code",
      "metadata": {
        "colab": {
          "base_uri": "https://localhost:8080/"
        },
        "id": "joYw_xtRf4Un",
        "outputId": "8a085baf-f5c0-46d2-ab4a-8c9fdd5e4c0e"
      },
      "source": [
        "#Listing 2-1, modified for df: find shape of dataframe\n",
        "df.shape"
      ],
      "execution_count": 2,
      "outputs": [
        {
          "output_type": "execute_result",
          "data": {
            "text/plain": [
              "(2721, 37)"
            ]
          },
          "metadata": {},
          "execution_count": 2
        }
      ]
    },
    {
      "cell_type": "code",
      "metadata": {
        "colab": {
          "base_uri": "https://localhost:8080/"
        },
        "id": "iCk8isfbgVyw",
        "outputId": "9cf86876-b034-436c-892b-2d8268968cad"
      },
      "source": [
        "#Listing 2-2, column data types\n",
        "df.dtypes"
      ],
      "execution_count": 3,
      "outputs": [
        {
          "output_type": "execute_result",
          "data": {
            "text/plain": [
              "CUSIP                          object\n",
              "Ticker                         object\n",
              "Issue Date                     object\n",
              "Maturity                       object\n",
              "1st Call Date                  object\n",
              "Moodys                         object\n",
              "S_and_P                        object\n",
              "Fitch                          object\n",
              "Bloomberg Composite Rating     object\n",
              "Coupon                        float64\n",
              "Issued Amount                 float64\n",
              "Maturity Type                  object\n",
              "Coupon Type                    object\n",
              "Maturity At Issue months      float64\n",
              "Industry                       object\n",
              "LiquidityScore                float64\n",
              "Months in JNK                  object\n",
              "Months in HYG                  object\n",
              "Months in Both                 object\n",
              "IN_ETF                         object\n",
              "LIQ SCORE                     float64\n",
              "n_trades                        int64\n",
              "volume_trades                 float64\n",
              "total_median_size             float64\n",
              "total_mean_size               float64\n",
              "n_days_trade                    int64\n",
              "days_diff_max                   int64\n",
              "percent_intra_dealer          float64\n",
              "percent_uncapped              float64\n",
              "bond_type                       int64\n",
              "Client_Trade_Percentage       float64\n",
              "weekly_mean_volume            float64\n",
              "weekly_median_volume          float64\n",
              "weekly_max_volume             float64\n",
              "weekly_min_volume             float64\n",
              "weekly_mean_ntrades           float64\n",
              "weekly_median_ntrades           int64\n",
              "dtype: object"
            ]
          },
          "metadata": {},
          "execution_count": 3
        }
      ]
    },
    {
      "cell_type": "code",
      "metadata": {
        "colab": {
          "base_uri": "https://localhost:8080/",
          "height": 484
        },
        "id": "g54EyQxFgjpP",
        "outputId": "51ce60c9-12f4-44e6-9ba2-dc3168e1ee15"
      },
      "source": [
        "#Listing 2-3 (actually 2-5), adapted for dataframe (summary statistics)\n",
        "df.describe(include = 'all')"
      ],
      "execution_count": 4,
      "outputs": [
        {
          "output_type": "execute_result",
          "data": {
            "text/html": [
              "<div>\n",
              "<style scoped>\n",
              "    .dataframe tbody tr th:only-of-type {\n",
              "        vertical-align: middle;\n",
              "    }\n",
              "\n",
              "    .dataframe tbody tr th {\n",
              "        vertical-align: top;\n",
              "    }\n",
              "\n",
              "    .dataframe thead th {\n",
              "        text-align: right;\n",
              "    }\n",
              "</style>\n",
              "<table border=\"1\" class=\"dataframe\">\n",
              "  <thead>\n",
              "    <tr style=\"text-align: right;\">\n",
              "      <th></th>\n",
              "      <th>CUSIP</th>\n",
              "      <th>Ticker</th>\n",
              "      <th>Issue Date</th>\n",
              "      <th>Maturity</th>\n",
              "      <th>1st Call Date</th>\n",
              "      <th>Moodys</th>\n",
              "      <th>S_and_P</th>\n",
              "      <th>Fitch</th>\n",
              "      <th>Bloomberg Composite Rating</th>\n",
              "      <th>Coupon</th>\n",
              "      <th>Issued Amount</th>\n",
              "      <th>Maturity Type</th>\n",
              "      <th>Coupon Type</th>\n",
              "      <th>Maturity At Issue months</th>\n",
              "      <th>Industry</th>\n",
              "      <th>LiquidityScore</th>\n",
              "      <th>Months in JNK</th>\n",
              "      <th>Months in HYG</th>\n",
              "      <th>Months in Both</th>\n",
              "      <th>IN_ETF</th>\n",
              "      <th>LIQ SCORE</th>\n",
              "      <th>n_trades</th>\n",
              "      <th>volume_trades</th>\n",
              "      <th>total_median_size</th>\n",
              "      <th>total_mean_size</th>\n",
              "      <th>n_days_trade</th>\n",
              "      <th>days_diff_max</th>\n",
              "      <th>percent_intra_dealer</th>\n",
              "      <th>percent_uncapped</th>\n",
              "      <th>bond_type</th>\n",
              "      <th>Client_Trade_Percentage</th>\n",
              "      <th>weekly_mean_volume</th>\n",
              "      <th>weekly_median_volume</th>\n",
              "      <th>weekly_max_volume</th>\n",
              "      <th>weekly_min_volume</th>\n",
              "      <th>weekly_mean_ntrades</th>\n",
              "      <th>weekly_median_ntrades</th>\n",
              "    </tr>\n",
              "  </thead>\n",
              "  <tbody>\n",
              "    <tr>\n",
              "      <th>count</th>\n",
              "      <td>2721</td>\n",
              "      <td>2721</td>\n",
              "      <td>2721</td>\n",
              "      <td>2721</td>\n",
              "      <td>2721</td>\n",
              "      <td>2721</td>\n",
              "      <td>2721</td>\n",
              "      <td>2721</td>\n",
              "      <td>2721</td>\n",
              "      <td>2721.000000</td>\n",
              "      <td>2.721000e+03</td>\n",
              "      <td>2721</td>\n",
              "      <td>2721</td>\n",
              "      <td>2721.000000</td>\n",
              "      <td>2721</td>\n",
              "      <td>2721.000000</td>\n",
              "      <td>2721</td>\n",
              "      <td>2721</td>\n",
              "      <td>2721</td>\n",
              "      <td>2721</td>\n",
              "      <td>2721.000000</td>\n",
              "      <td>2721.000000</td>\n",
              "      <td>2.721000e+03</td>\n",
              "      <td>2.721000e+03</td>\n",
              "      <td>2.721000e+03</td>\n",
              "      <td>2721.000000</td>\n",
              "      <td>2721.000000</td>\n",
              "      <td>2721.000000</td>\n",
              "      <td>2721.000000</td>\n",
              "      <td>2721.000000</td>\n",
              "      <td>2721.000000</td>\n",
              "      <td>2.721000e+03</td>\n",
              "      <td>2.721000e+03</td>\n",
              "      <td>2.721000e+03</td>\n",
              "      <td>2.721000e+03</td>\n",
              "      <td>2721.000000</td>\n",
              "      <td>2721.000000</td>\n",
              "    </tr>\n",
              "    <tr>\n",
              "      <th>unique</th>\n",
              "      <td>2721</td>\n",
              "      <td>870</td>\n",
              "      <td>1545</td>\n",
              "      <td>1108</td>\n",
              "      <td>331</td>\n",
              "      <td>45</td>\n",
              "      <td>41</td>\n",
              "      <td>39</td>\n",
              "      <td>28</td>\n",
              "      <td>NaN</td>\n",
              "      <td>NaN</td>\n",
              "      <td>12</td>\n",
              "      <td>10</td>\n",
              "      <td>NaN</td>\n",
              "      <td>69</td>\n",
              "      <td>NaN</td>\n",
              "      <td>65</td>\n",
              "      <td>69</td>\n",
              "      <td>64</td>\n",
              "      <td>2</td>\n",
              "      <td>NaN</td>\n",
              "      <td>NaN</td>\n",
              "      <td>NaN</td>\n",
              "      <td>NaN</td>\n",
              "      <td>NaN</td>\n",
              "      <td>NaN</td>\n",
              "      <td>NaN</td>\n",
              "      <td>NaN</td>\n",
              "      <td>NaN</td>\n",
              "      <td>NaN</td>\n",
              "      <td>NaN</td>\n",
              "      <td>NaN</td>\n",
              "      <td>NaN</td>\n",
              "      <td>NaN</td>\n",
              "      <td>NaN</td>\n",
              "      <td>NaN</td>\n",
              "      <td>NaN</td>\n",
              "    </tr>\n",
              "    <tr>\n",
              "      <th>top</th>\n",
              "      <td>28368EAE6</td>\n",
              "      <td>LEH</td>\n",
              "      <td>3/14/2013</td>\n",
              "      <td>Nan Field Not Applicable</td>\n",
              "      <td>Nan</td>\n",
              "      <td>WR</td>\n",
              "      <td>NR</td>\n",
              "      <td>Nan</td>\n",
              "      <td>NR</td>\n",
              "      <td>NaN</td>\n",
              "      <td>NaN</td>\n",
              "      <td>CALLABLE</td>\n",
              "      <td>FIXED</td>\n",
              "      <td>NaN</td>\n",
              "      <td>Banks</td>\n",
              "      <td>NaN</td>\n",
              "      <td>Nan</td>\n",
              "      <td>Nan</td>\n",
              "      <td>Nan</td>\n",
              "      <td>No</td>\n",
              "      <td>NaN</td>\n",
              "      <td>NaN</td>\n",
              "      <td>NaN</td>\n",
              "      <td>NaN</td>\n",
              "      <td>NaN</td>\n",
              "      <td>NaN</td>\n",
              "      <td>NaN</td>\n",
              "      <td>NaN</td>\n",
              "      <td>NaN</td>\n",
              "      <td>NaN</td>\n",
              "      <td>NaN</td>\n",
              "      <td>NaN</td>\n",
              "      <td>NaN</td>\n",
              "      <td>NaN</td>\n",
              "      <td>NaN</td>\n",
              "      <td>NaN</td>\n",
              "      <td>NaN</td>\n",
              "    </tr>\n",
              "    <tr>\n",
              "      <th>freq</th>\n",
              "      <td>1</td>\n",
              "      <td>45</td>\n",
              "      <td>9</td>\n",
              "      <td>86</td>\n",
              "      <td>1757</td>\n",
              "      <td>1039</td>\n",
              "      <td>1009</td>\n",
              "      <td>1170</td>\n",
              "      <td>1136</td>\n",
              "      <td>NaN</td>\n",
              "      <td>NaN</td>\n",
              "      <td>1560</td>\n",
              "      <td>2139</td>\n",
              "      <td>NaN</td>\n",
              "      <td>380</td>\n",
              "      <td>NaN</td>\n",
              "      <td>1408</td>\n",
              "      <td>1408</td>\n",
              "      <td>1408</td>\n",
              "      <td>1408</td>\n",
              "      <td>NaN</td>\n",
              "      <td>NaN</td>\n",
              "      <td>NaN</td>\n",
              "      <td>NaN</td>\n",
              "      <td>NaN</td>\n",
              "      <td>NaN</td>\n",
              "      <td>NaN</td>\n",
              "      <td>NaN</td>\n",
              "      <td>NaN</td>\n",
              "      <td>NaN</td>\n",
              "      <td>NaN</td>\n",
              "      <td>NaN</td>\n",
              "      <td>NaN</td>\n",
              "      <td>NaN</td>\n",
              "      <td>NaN</td>\n",
              "      <td>NaN</td>\n",
              "      <td>NaN</td>\n",
              "    </tr>\n",
              "    <tr>\n",
              "      <th>mean</th>\n",
              "      <td>NaN</td>\n",
              "      <td>NaN</td>\n",
              "      <td>NaN</td>\n",
              "      <td>NaN</td>\n",
              "      <td>NaN</td>\n",
              "      <td>NaN</td>\n",
              "      <td>NaN</td>\n",
              "      <td>NaN</td>\n",
              "      <td>NaN</td>\n",
              "      <td>10.307872</td>\n",
              "      <td>8.299295e+08</td>\n",
              "      <td>NaN</td>\n",
              "      <td>NaN</td>\n",
              "      <td>113.968997</td>\n",
              "      <td>NaN</td>\n",
              "      <td>18.218230</td>\n",
              "      <td>NaN</td>\n",
              "      <td>NaN</td>\n",
              "      <td>NaN</td>\n",
              "      <td>NaN</td>\n",
              "      <td>0.182182</td>\n",
              "      <td>2700.696435</td>\n",
              "      <td>7.222372e+08</td>\n",
              "      <td>5.361476e+05</td>\n",
              "      <td>5.255853e+05</td>\n",
              "      <td>316.581771</td>\n",
              "      <td>724.219772</td>\n",
              "      <td>0.244306</td>\n",
              "      <td>0.676536</td>\n",
              "      <td>3.496141</td>\n",
              "      <td>0.379648</td>\n",
              "      <td>7.588325e+06</td>\n",
              "      <td>5.672609e+06</td>\n",
              "      <td>4.915523e+07</td>\n",
              "      <td>6.690499e+05</td>\n",
              "      <td>21.598988</td>\n",
              "      <td>2.471885</td>\n",
              "    </tr>\n",
              "    <tr>\n",
              "      <th>std</th>\n",
              "      <td>NaN</td>\n",
              "      <td>NaN</td>\n",
              "      <td>NaN</td>\n",
              "      <td>NaN</td>\n",
              "      <td>NaN</td>\n",
              "      <td>NaN</td>\n",
              "      <td>NaN</td>\n",
              "      <td>NaN</td>\n",
              "      <td>NaN</td>\n",
              "      <td>63.051382</td>\n",
              "      <td>5.802790e+08</td>\n",
              "      <td>NaN</td>\n",
              "      <td>NaN</td>\n",
              "      <td>101.893176</td>\n",
              "      <td>NaN</td>\n",
              "      <td>7.872071</td>\n",
              "      <td>NaN</td>\n",
              "      <td>NaN</td>\n",
              "      <td>NaN</td>\n",
              "      <td>NaN</td>\n",
              "      <td>0.078721</td>\n",
              "      <td>5572.262205</td>\n",
              "      <td>1.027825e+09</td>\n",
              "      <td>4.193546e+05</td>\n",
              "      <td>2.670677e+05</td>\n",
              "      <td>347.802629</td>\n",
              "      <td>587.196329</td>\n",
              "      <td>0.152165</td>\n",
              "      <td>0.219661</td>\n",
              "      <td>1.712004</td>\n",
              "      <td>0.144545</td>\n",
              "      <td>8.979311e+06</td>\n",
              "      <td>7.340321e+06</td>\n",
              "      <td>6.703860e+07</td>\n",
              "      <td>3.094537e+06</td>\n",
              "      <td>32.901129</td>\n",
              "      <td>5.581749</td>\n",
              "    </tr>\n",
              "    <tr>\n",
              "      <th>min</th>\n",
              "      <td>NaN</td>\n",
              "      <td>NaN</td>\n",
              "      <td>NaN</td>\n",
              "      <td>NaN</td>\n",
              "      <td>NaN</td>\n",
              "      <td>NaN</td>\n",
              "      <td>NaN</td>\n",
              "      <td>NaN</td>\n",
              "      <td>NaN</td>\n",
              "      <td>0.000000</td>\n",
              "      <td>3.700000e+08</td>\n",
              "      <td>NaN</td>\n",
              "      <td>NaN</td>\n",
              "      <td>11.930000</td>\n",
              "      <td>NaN</td>\n",
              "      <td>4.388758</td>\n",
              "      <td>NaN</td>\n",
              "      <td>NaN</td>\n",
              "      <td>NaN</td>\n",
              "      <td>NaN</td>\n",
              "      <td>0.043888</td>\n",
              "      <td>1.000000</td>\n",
              "      <td>7.000000e+03</td>\n",
              "      <td>4.000000e+03</td>\n",
              "      <td>5.000000e+03</td>\n",
              "      <td>1.000000</td>\n",
              "      <td>0.000000</td>\n",
              "      <td>0.000000</td>\n",
              "      <td>0.000000</td>\n",
              "      <td>1.000000</td>\n",
              "      <td>0.000000</td>\n",
              "      <td>7.000000e+03</td>\n",
              "      <td>7.000000e+03</td>\n",
              "      <td>7.000000e+03</td>\n",
              "      <td>1.400000e+01</td>\n",
              "      <td>1.000000</td>\n",
              "      <td>1.000000</td>\n",
              "    </tr>\n",
              "    <tr>\n",
              "      <th>25%</th>\n",
              "      <td>NaN</td>\n",
              "      <td>NaN</td>\n",
              "      <td>NaN</td>\n",
              "      <td>NaN</td>\n",
              "      <td>NaN</td>\n",
              "      <td>NaN</td>\n",
              "      <td>NaN</td>\n",
              "      <td>NaN</td>\n",
              "      <td>NaN</td>\n",
              "      <td>5.000000</td>\n",
              "      <td>5.000000e+08</td>\n",
              "      <td>NaN</td>\n",
              "      <td>NaN</td>\n",
              "      <td>65.170000</td>\n",
              "      <td>NaN</td>\n",
              "      <td>12.738630</td>\n",
              "      <td>NaN</td>\n",
              "      <td>NaN</td>\n",
              "      <td>NaN</td>\n",
              "      <td>NaN</td>\n",
              "      <td>0.127386</td>\n",
              "      <td>116.000000</td>\n",
              "      <td>6.189000e+07</td>\n",
              "      <td>7.500000e+04</td>\n",
              "      <td>3.010473e+05</td>\n",
              "      <td>45.000000</td>\n",
              "      <td>213.000000</td>\n",
              "      <td>0.124731</td>\n",
              "      <td>0.534224</td>\n",
              "      <td>1.000000</td>\n",
              "      <td>0.290826</td>\n",
              "      <td>2.295273e+06</td>\n",
              "      <td>1.750000e+06</td>\n",
              "      <td>9.020000e+06</td>\n",
              "      <td>2.100000e+04</td>\n",
              "      <td>4.046154</td>\n",
              "      <td>1.000000</td>\n",
              "    </tr>\n",
              "    <tr>\n",
              "      <th>50%</th>\n",
              "      <td>NaN</td>\n",
              "      <td>NaN</td>\n",
              "      <td>NaN</td>\n",
              "      <td>NaN</td>\n",
              "      <td>NaN</td>\n",
              "      <td>NaN</td>\n",
              "      <td>NaN</td>\n",
              "      <td>NaN</td>\n",
              "      <td>NaN</td>\n",
              "      <td>6.250000</td>\n",
              "      <td>6.500000e+08</td>\n",
              "      <td>NaN</td>\n",
              "      <td>NaN</td>\n",
              "      <td>97.370000</td>\n",
              "      <td>NaN</td>\n",
              "      <td>16.538471</td>\n",
              "      <td>NaN</td>\n",
              "      <td>NaN</td>\n",
              "      <td>NaN</td>\n",
              "      <td>NaN</td>\n",
              "      <td>0.165385</td>\n",
              "      <td>674.000000</td>\n",
              "      <td>3.480000e+08</td>\n",
              "      <td>5.000000e+05</td>\n",
              "      <td>5.769231e+05</td>\n",
              "      <td>184.000000</td>\n",
              "      <td>608.000000</td>\n",
              "      <td>0.250000</td>\n",
              "      <td>0.681992</td>\n",
              "      <td>5.000000</td>\n",
              "      <td>0.376385</td>\n",
              "      <td>4.926339e+06</td>\n",
              "      <td>3.527000e+06</td>\n",
              "      <td>2.410000e+07</td>\n",
              "      <td>1.060000e+05</td>\n",
              "      <td>10.821429</td>\n",
              "      <td>1.000000</td>\n",
              "    </tr>\n",
              "    <tr>\n",
              "      <th>75%</th>\n",
              "      <td>NaN</td>\n",
              "      <td>NaN</td>\n",
              "      <td>NaN</td>\n",
              "      <td>NaN</td>\n",
              "      <td>NaN</td>\n",
              "      <td>NaN</td>\n",
              "      <td>NaN</td>\n",
              "      <td>NaN</td>\n",
              "      <td>NaN</td>\n",
              "      <td>7.750000</td>\n",
              "      <td>1.000000e+09</td>\n",
              "      <td>NaN</td>\n",
              "      <td>NaN</td>\n",
              "      <td>121.770000</td>\n",
              "      <td>NaN</td>\n",
              "      <td>22.120108</td>\n",
              "      <td>NaN</td>\n",
              "      <td>NaN</td>\n",
              "      <td>NaN</td>\n",
              "      <td>NaN</td>\n",
              "      <td>0.221201</td>\n",
              "      <td>2467.000000</td>\n",
              "      <td>9.328420e+08</td>\n",
              "      <td>1.000000e+06</td>\n",
              "      <td>7.289650e+05</td>\n",
              "      <td>483.000000</td>\n",
              "      <td>1094.000000</td>\n",
              "      <td>0.356808</td>\n",
              "      <td>0.859256</td>\n",
              "      <td>5.000000</td>\n",
              "      <td>0.448718</td>\n",
              "      <td>9.649299e+06</td>\n",
              "      <td>7.011000e+06</td>\n",
              "      <td>6.370500e+07</td>\n",
              "      <td>4.300000e+05</td>\n",
              "      <td>24.526316</td>\n",
              "      <td>2.000000</td>\n",
              "    </tr>\n",
              "    <tr>\n",
              "      <th>max</th>\n",
              "      <td>NaN</td>\n",
              "      <td>NaN</td>\n",
              "      <td>NaN</td>\n",
              "      <td>NaN</td>\n",
              "      <td>NaN</td>\n",
              "      <td>NaN</td>\n",
              "      <td>NaN</td>\n",
              "      <td>NaN</td>\n",
              "      <td>NaN</td>\n",
              "      <td>999.000000</td>\n",
              "      <td>7.364026e+09</td>\n",
              "      <td>NaN</td>\n",
              "      <td>NaN</td>\n",
              "      <td>1217.570000</td>\n",
              "      <td>NaN</td>\n",
              "      <td>54.673908</td>\n",
              "      <td>NaN</td>\n",
              "      <td>NaN</td>\n",
              "      <td>NaN</td>\n",
              "      <td>NaN</td>\n",
              "      <td>0.546739</td>\n",
              "      <td>57935.000000</td>\n",
              "      <td>8.979960e+09</td>\n",
              "      <td>3.400000e+06</td>\n",
              "      <td>3.400000e+06</td>\n",
              "      <td>1667.000000</td>\n",
              "      <td>2442.000000</td>\n",
              "      <td>1.000000</td>\n",
              "      <td>1.000000</td>\n",
              "      <td>5.000000</td>\n",
              "      <td>1.000000</td>\n",
              "      <td>1.179500e+08</td>\n",
              "      <td>1.179500e+08</td>\n",
              "      <td>8.728140e+08</td>\n",
              "      <td>1.002500e+08</td>\n",
              "      <td>513.769231</td>\n",
              "      <td>160.000000</td>\n",
              "    </tr>\n",
              "  </tbody>\n",
              "</table>\n",
              "</div>"
            ],
            "text/plain": [
              "            CUSIP Ticker  ... weekly_mean_ntrades weekly_median_ntrades\n",
              "count        2721   2721  ...         2721.000000           2721.000000\n",
              "unique       2721    870  ...                 NaN                   NaN\n",
              "top     28368EAE6    LEH  ...                 NaN                   NaN\n",
              "freq            1     45  ...                 NaN                   NaN\n",
              "mean          NaN    NaN  ...           21.598988              2.471885\n",
              "std           NaN    NaN  ...           32.901129              5.581749\n",
              "min           NaN    NaN  ...            1.000000              1.000000\n",
              "25%           NaN    NaN  ...            4.046154              1.000000\n",
              "50%           NaN    NaN  ...           10.821429              1.000000\n",
              "75%           NaN    NaN  ...           24.526316              2.000000\n",
              "max           NaN    NaN  ...          513.769231            160.000000\n",
              "\n",
              "[11 rows x 37 columns]"
            ]
          },
          "metadata": {},
          "execution_count": 4
        }
      ]
    },
    {
      "cell_type": "code",
      "metadata": {
        "id": "-8NtbPflnGzS"
      },
      "source": [
        "#drop unique identifiers\n",
        "df = df.drop(columns = ['CUSIP', 'Ticker', 'Issue Date', 'Maturity'])"
      ],
      "execution_count": 5,
      "outputs": []
    },
    {
      "cell_type": "code",
      "metadata": {
        "colab": {
          "base_uri": "https://localhost:8080/"
        },
        "id": "lwbvf4Rbhk2g",
        "outputId": "f14c8153-98f0-42bb-f057-b4a257f0e387"
      },
      "source": [
        "df. count()"
      ],
      "execution_count": 6,
      "outputs": [
        {
          "output_type": "execute_result",
          "data": {
            "text/plain": [
              "1st Call Date                 2721\n",
              "Moodys                        2721\n",
              "S_and_P                       2721\n",
              "Fitch                         2721\n",
              "Bloomberg Composite Rating    2721\n",
              "Coupon                        2721\n",
              "Issued Amount                 2721\n",
              "Maturity Type                 2721\n",
              "Coupon Type                   2721\n",
              "Maturity At Issue months      2721\n",
              "Industry                      2721\n",
              "LiquidityScore                2721\n",
              "Months in JNK                 2721\n",
              "Months in HYG                 2721\n",
              "Months in Both                2721\n",
              "IN_ETF                        2721\n",
              "LIQ SCORE                     2721\n",
              "n_trades                      2721\n",
              "volume_trades                 2721\n",
              "total_median_size             2721\n",
              "total_mean_size               2721\n",
              "n_days_trade                  2721\n",
              "days_diff_max                 2721\n",
              "percent_intra_dealer          2721\n",
              "percent_uncapped              2721\n",
              "bond_type                     2721\n",
              "Client_Trade_Percentage       2721\n",
              "weekly_mean_volume            2721\n",
              "weekly_median_volume          2721\n",
              "weekly_max_volume             2721\n",
              "weekly_min_volume             2721\n",
              "weekly_mean_ntrades           2721\n",
              "weekly_median_ntrades         2721\n",
              "dtype: int64"
            ]
          },
          "metadata": {},
          "execution_count": 6
        }
      ]
    },
    {
      "cell_type": "code",
      "metadata": {
        "colab": {
          "base_uri": "https://localhost:8080/",
          "height": 295
        },
        "id": "OVRqqXujhudg",
        "outputId": "06ec519f-2be3-4729-fc48-03964b8ce3e5"
      },
      "source": [
        "#Listing 2-4: Q-Q Plot\n",
        "import scipy.stats as stats\n",
        "import pylab\n",
        "stats.probplot(df['weekly_mean_volume'], dist = \"norm\", plot = pylab)\n",
        "pylab.show()"
      ],
      "execution_count": 7,
      "outputs": [
        {
          "output_type": "display_data",
          "data": {
            "image/png": "[encoded data removed]",
            "text/plain": [
              "<Figure size 432x288 with 1 Axes>"
            ]
          },
          "metadata": {
            "needs_background": "light"
          }
        }
      ]
    },
    {
      "cell_type": "code",
      "metadata": {
        "colab": {
          "base_uri": "https://localhost:8080/",
          "height": 295
        },
        "id": "icwHgKr2jYLa",
        "outputId": "b9383564-4d24-4a08-8081-a63a747a5cdf"
      },
      "source": [
        "#Listing 2-4: Q-Q Plot\n",
        "import scipy.stats as stats\n",
        "import pylab\n",
        "stats.probplot(df['volume_trades'], dist = \"norm\", plot = pylab)\n",
        "pylab.show()"
      ],
      "execution_count": 8,
      "outputs": [
        {
          "output_type": "display_data",
          "data": {
            "image/png": "[encoded data removed]",
            "text/plain": [
              "<Figure size 432x288 with 1 Axes>"
            ]
          },
          "metadata": {
            "needs_background": "light"
          }
        }
      ]
    },
    {
      "cell_type": "code",
      "metadata": {
        "colab": {
          "base_uri": "https://localhost:8080/",
          "height": 309
        },
        "id": "N5MPX9XOl3KF",
        "outputId": "96dbfa10-3914-4b99-a4a5-55c93bd0aaa4"
      },
      "source": [
        "#Listing 2-7\n",
        "import matplotlib.pyplot as plt\n",
        "plt.scatter(df['weekly_mean_volume'], df['volume_trades'])\n",
        "plt.xlabel('weekly mean volume')\n",
        "plt.ylabel('volume trades')"
      ],
      "execution_count": 9,
      "outputs": [
        {
          "output_type": "execute_result",
          "data": {
            "text/plain": [
              "Text(0, 0.5, 'volume trades')"
            ]
          },
          "metadata": {},
          "execution_count": 9
        },
        {
          "output_type": "display_data",
          "data": {
            "image/png": "[encoded data removed]",
            "text/plain": [
              "<Figure size 432x288 with 1 Axes>"
            ]
          },
          "metadata": {
            "needs_background": "light"
          }
        }
      ]
    },
    {
      "cell_type": "code",
      "metadata": {
        "colab": {
          "base_uri": "https://localhost:8080/",
          "height": 265
        },
        "id": "Ydg8Ai2dpp7-",
        "outputId": "67cfc2f5-6e96-4603-e2f0-977b1297c1c1"
      },
      "source": [
        "#Listing 2-10\n",
        "from pandas import DataFrame\n",
        "corMat = DataFrame(df.corr())\n",
        "\n",
        "plt.pcolor(corMat)\n",
        "plt.show()"
      ],
      "execution_count": 10,
      "outputs": [
        {
          "output_type": "display_data",
          "data": {
            "image/png": "[encoded data removed]",
            "text/plain": [
              "<Figure size 432x288 with 1 Axes>"
            ]
          },
          "metadata": {
            "needs_background": "light"
          }
        }
      ]
    },
    {
      "cell_type": "code",
      "metadata": {
        "colab": {
          "base_uri": "https://localhost:8080/",
          "height": 298
        },
        "id": "Z0vgMrwQqFdb",
        "outputId": "f6da8881-b23c-492a-dc4b-36ff321199e6"
      },
      "source": [
        "#Histogram\n",
        "plt.hist(df['weekly_mean_volume'], bins = 5)\n",
        "plt.xlabel('Weekly Mean Volume')\n",
        "plt.ylabel('Frequency')"
      ],
      "execution_count": 11,
      "outputs": [
        {
          "output_type": "execute_result",
          "data": {
            "text/plain": [
              "Text(0, 0.5, 'Frequency')"
            ]
          },
          "metadata": {},
          "execution_count": 11
        },
        {
          "output_type": "display_data",
          "data": {
            "image/png": "[encoded data removed]",
            "text/plain": [
              "<Figure size 432x288 with 1 Axes>"
            ]
          },
          "metadata": {
            "needs_background": "light"
          }
        }
      ]
    },
    {
      "cell_type": "code",
      "metadata": {
        "colab": {
          "base_uri": "https://localhost:8080/",
          "height": 298
        },
        "id": "hjYrTVxDqUJd",
        "outputId": "ae7a6fe4-8990-4b97-f15b-a4e84b33cdcf"
      },
      "source": [
        "#Histogram\n",
        "plt.hist(df['LIQ SCORE'])\n",
        "plt.xlabel('LIQ SCORE')\n",
        "plt.ylabel('Frequency')"
      ],
      "execution_count": 12,
      "outputs": [
        {
          "output_type": "execute_result",
          "data": {
            "text/plain": [
              "Text(0, 0.5, 'Frequency')"
            ]
          },
          "metadata": {},
          "execution_count": 12
        },
        {
          "output_type": "display_data",
          "data": {
            "image/png": "[encoded data removed]",
            "text/plain": [
              "<Figure size 432x288 with 1 Axes>"
            ]
          },
          "metadata": {
            "needs_background": "light"
          }
        }
      ]
    },
    {
      "cell_type": "code",
      "metadata": {
        "colab": {
          "base_uri": "https://localhost:8080/",
          "height": 803
        },
        "id": "xggrtJKHqqbb",
        "outputId": "c63fd0ed-0152-4635-fd86-cfebba06176d"
      },
      "source": [
        "# BEE Swarm\n",
        "import seaborn as sns\n",
        "fig_dims = (12, 10)\n",
        "fig,ax = plt.subplots(figsize = fig_dims)\n",
        "s = sns.swarmplot(x = 'Coupon Type', y = 'weekly_mean_volume', hue = 'IN_ETF', ax = ax, data = df)\n"
      ],
      "execution_count": 15,
      "outputs": [
        {
          "output_type": "stream",
          "name": "stderr",
          "text": [
            "/usr/local/lib/python3.7/dist-packages/seaborn/categorical.py:1296: UserWarning: 85.2% of the points cannot be placed; you may want to decrease the size of the markers or use stripplot.\n",
            "  warnings.warn(msg, UserWarning)\n",
            "/usr/local/lib/python3.7/dist-packages/seaborn/categorical.py:1296: UserWarning: 18.9% of the points cannot be placed; you may want to decrease the size of the markers or use stripplot.\n",
            "  warnings.warn(msg, UserWarning)\n",
            "/usr/local/lib/python3.7/dist-packages/seaborn/categorical.py:1296: UserWarning: 57.3% of the points cannot be placed; you may want to decrease the size of the markers or use stripplot.\n",
            "  warnings.warn(msg, UserWarning)\n",
            "/usr/local/lib/python3.7/dist-packages/seaborn/categorical.py:1296: UserWarning: 6.9% of the points cannot be placed; you may want to decrease the size of the markers or use stripplot.\n",
            "  warnings.warn(msg, UserWarning)\n",
            "/usr/local/lib/python3.7/dist-packages/seaborn/categorical.py:1296: UserWarning: 38.6% of the points cannot be placed; you may want to decrease the size of the markers or use stripplot.\n",
            "  warnings.warn(msg, UserWarning)\n"
          ]
        },
        {
          "output_type": "display_data",
          "data": {
            "image/png": "[encoded data removed]",
            "text/plain": [
              "<Figure size 864x720 with 1 Axes>"
            ]
          },
          "metadata": {
            "needs_background": "light"
          }
        }
      ]
    },
    {
      "cell_type": "code",
      "metadata": {
        "colab": {
          "base_uri": "https://localhost:8080/",
          "height": 296
        },
        "id": "8ha12IaiuGY_",
        "outputId": "2e2c2e10-de29-40f6-aa7d-c2a74615109e"
      },
      "source": [
        "#Boxplots\n",
        "df.boxplot(column = ['Issued Amount', 'volume_trades'])"
      ],
      "execution_count": 26,
      "outputs": [
        {
          "output_type": "execute_result",
          "data": {
            "text/plain": [
              "<matplotlib.axes._subplots.AxesSubplot at 0x7fc1f167a2d0>"
            ]
          },
          "metadata": {},
          "execution_count": 26
        },
        {
          "output_type": "display_data",
          "data": {
            "image/png": "[encoded data removed]",
            "text/plain": [
              "<Figure size 432x288 with 1 Axes>"
            ]
          },
          "metadata": {
            "needs_background": "light"
          }
        }
      ]
    },
    {
      "cell_type": "code",
      "metadata": {
        "colab": {
          "base_uri": "https://localhost:8080/",
          "height": 296
        },
        "id": "GCRLP04LwWQu",
        "outputId": "0156925e-0280-432c-a96b-c1170aea0983"
      },
      "source": [
        "df.boxplot(column = ['LiquidityScore', 'total_mean_size', 'n_trades'])\n",
        "\n",
        "#obvious in this plot we have a scale problem. Can see it in data, but boxplots highlight that some are 10^6, 10^9, or 10^1 numeric values, so we need to address this when \n",
        "# getting data ready to fit model"
      ],
      "execution_count": 28,
      "outputs": [
        {
          "output_type": "execute_result",
          "data": {
            "text/plain": [
              "<matplotlib.axes._subplots.AxesSubplot at 0x7fc1e64db350>"
            ]
          },
          "metadata": {},
          "execution_count": 28
        },
        {
          "output_type": "display_data",
          "data": {
            "image/png": "[encoded data removed]",
            "text/plain": [
              "<Figure size 432x288 with 1 Axes>"
            ]
          },
          "metadata": {
            "needs_background": "light"
          }
        }
      ]
    },
    {
      "cell_type": "code",
      "metadata": {
        "colab": {
          "base_uri": "https://localhost:8080/"
        },
        "id": "X7ZPFt3Ffh9J",
        "outputId": "b4877d03-3788-47df-d552-7c969ed490e9"
      },
      "source": [
        "print(\"My name is Emma Mayes\")\n",
        "print(\"My NetID is: eemayes2\")\n",
        "print(\"I hereby certify that I have read the University policy on Academic Integrity and that I am not in violation.\")"
      ],
      "execution_count": 29,
      "outputs": [
        {
          "output_type": "stream",
          "name": "stdout",
          "text": [
            "My name is Emma Mayes\n",
            "My NetID is: eemayes2\n",
            "I hereby certify that I have read the University policy on Academic Integrity and that I am not in violation.\n"
          ]
        }
      ]
    },
    {
      "cell_type": "code",
      "metadata": {
        "colab": {
          "base_uri": "https://localhost:8080/",
          "height": 710
        },
        "id": "6eUmEUnLxBxi",
        "outputId": "89699c30-aaee-401a-fcc9-872adeee1a55"
      },
      "source": [
        "!wget -nc https://raw.githubusercontent.com/brpy/colab-pdf/master/colab_pdf.py\n",
        "from colab_pdf import colab_pdf\n",
        "colab_pdf('IE517_HWK3.ipynb')"
      ],
      "execution_count": 30,
      "outputs": [
        {
          "output_type": "stream",
          "name": "stdout",
          "text": [
            "--2021-09-10 22:11:42--  https://raw.githubusercontent.com/brpy/colab-pdf/master/colab_pdf.py\n",
            "Resolving raw.githubusercontent.com (raw.githubusercontent.com)... 185.199.111.133, 185.199.110.133, 185.199.109.133, ...\n",
            "Connecting to raw.githubusercontent.com (raw.githubusercontent.com)|185.199.111.133|:443... connected.\n",
            "HTTP request sent, awaiting response... 200 OK\n",
            "Length: 1864 (1.8K) [text/plain]\n",
            "Saving to: ‘colab_pdf.py’\n",
            "\n",
            "\rcolab_pdf.py          0%[                    ]       0  --.-KB/s               \rcolab_pdf.py        100%[===================>]   1.82K  --.-KB/s    in 0s      \n",
            "\n",
            "2021-09-10 22:11:43 (21.2 MB/s) - ‘colab_pdf.py’ saved [1864/1864]\n",
            "\n",
            "\n",
            "WARNING: apt does not have a stable CLI interface. Use with caution in scripts.\n",
            "\n",
            "\n",
            "WARNING: apt does not have a stable CLI interface. Use with caution in scripts.\n",
            "\n",
            "Extracting templates from packages: 100%\n",
            "[NbConvertApp] Converting notebook /content/drive/MyDrive/Colab Notebooks/IE517_HWK3.ipynb to pdf\n",
            "[NbConvertApp] Support files will be in IE517_HWK3_files/\n",
            "[NbConvertApp] Making directory ./IE517_HWK3_files\n",
            "[NbConvertApp] Making directory ./IE517_HWK3_files\n",
            "[NbConvertApp] Making directory ./IE517_HWK3_files\n",
            "[NbConvertApp] Making directory ./IE517_HWK3_files\n",
            "[NbConvertApp] Making directory ./IE517_HWK3_files\n",
            "[NbConvertApp] Making directory ./IE517_HWK3_files\n",
            "[NbConvertApp] Making directory ./IE517_HWK3_files\n",
            "[NbConvertApp] Making directory ./IE517_HWK3_files\n",
            "[NbConvertApp] Making directory ./IE517_HWK3_files\n",
            "[NbConvertApp] Writing 41335 bytes to ./notebook.tex\n",
            "[NbConvertApp] Building PDF\n",
            "[NbConvertApp] Running xelatex 3 times: [u'xelatex', u'./notebook.tex', '-quiet']\n",
            "[NbConvertApp] Running bibtex 1 time: [u'bibtex', u'./notebook']\n",
            "[NbConvertApp] WARNING | bibtex had problems, most likely because there were no citations\n",
            "[NbConvertApp] PDF successfully created\n",
            "[NbConvertApp] Writing 167297 bytes to /content/drive/My Drive/IE517_HWK3.pdf\n"
          ]
        },
        {
          "output_type": "display_data",
          "data": {
            "application/javascript": [
              "\n",
              "    async function download(id, filename, size) {\n",
              "      if (!google.colab.kernel.accessAllowed) {\n",
              "        return;\n",
              "      }\n",
              "      const div = document.createElement('div');\n",
              "      const label = document.createElement('label');\n",
              "      label.textContent = `Downloading \"${filename}\": `;\n",
              "      div.appendChild(label);\n",
              "      const progress = document.createElement('progress');\n",
              "      progress.max = size;\n",
              "      div.appendChild(progress);\n",
              "      document.body.appendChild(div);\n",
              "\n",
              "      const buffers = [];\n",
              "      let downloaded = 0;\n",
              "\n",
              "      const channel = await google.colab.kernel.comms.open(id);\n",
              "      // Send a message to notify the kernel that we're ready.\n",
              "      channel.send({})\n",
              "\n",
              "      for await (const message of channel.messages) {\n",
              "        // Send a message to notify the kernel that we're ready.\n",
              "        channel.send({})\n",
              "        if (message.buffers) {\n",
              "          for (const buffer of message.buffers) {\n",
              "            buffers.push(buffer);\n",
              "            downloaded += buffer.byteLength;\n",
              "            progress.value = downloaded;\n",
              "          }\n",
              "        }\n",
              "      }\n",
              "      const blob = new Blob(buffers, {type: 'application/binary'});\n",
              "      const a = document.createElement('a');\n",
              "      a.href = window.URL.createObjectURL(blob);\n",
              "      a.download = filename;\n",
              "      div.appendChild(a);\n",
              "      a.click();\n",
              "      div.remove();\n",
              "    }\n",
              "  "
            ],
            "text/plain": [
              "<IPython.core.display.Javascript object>"
            ]
          },
          "metadata": {}
        },
        {
          "output_type": "display_data",
          "data": {
            "application/javascript": [
              "download(\"download_0d71692d-1223-4b88-b1f6-4bbf7d99f793\", \"IE517_HWK3.pdf\", 167297)"
            ],
            "text/plain": [
              "<IPython.core.display.Javascript object>"
            ]
          },
          "metadata": {}
        },
        {
          "output_type": "execute_result",
          "data": {
            "application/vnd.google.colaboratory.intrinsic+json": {
              "type": "string"
            },
            "text/plain": [
              "'File ready to be Downloaded and Saved to Drive'"
            ]
          },
          "metadata": {},
          "execution_count": 30
        }
      ]
    }
  ]
}